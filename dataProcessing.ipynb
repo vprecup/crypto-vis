{
 "cells": [
  {
   "cell_type": "code",
   "execution_count": 2,
   "metadata": {},
   "outputs": [],
   "source": [
    "import pandas as pd\n",
    "import matplotlib.pyplot as plt\n",
    "#df = pd.read_json('trades.json')\n",
    "#df = pd.read_json('bfxbook.json')\n",
    "df = pd.read_json('bfxtrades.json')"
   ]
  },
  {
   "cell_type": "code",
   "execution_count": 3,
   "metadata": {},
   "outputs": [
    {
     "data": {
      "text/html": [
       "<div>\n",
       "<style scoped>\n",
       "    .dataframe tbody tr th:only-of-type {\n",
       "        vertical-align: middle;\n",
       "    }\n",
       "\n",
       "    .dataframe tbody tr th {\n",
       "        vertical-align: top;\n",
       "    }\n",
       "\n",
       "    .dataframe thead th {\n",
       "        text-align: right;\n",
       "    }\n",
       "</style>\n",
       "<table border=\"1\" class=\"dataframe\">\n",
       "  <thead>\n",
       "    <tr style=\"text-align: right;\">\n",
       "      <th></th>\n",
       "      <th>_id</th>\n",
       "      <th>_index</th>\n",
       "      <th>_score</th>\n",
       "      <th>_source</th>\n",
       "      <th>_type</th>\n",
       "    </tr>\n",
       "  </thead>\n",
       "  <tbody>\n",
       "    <tr>\n",
       "      <th>0</th>\n",
       "      <td>4ju0nWMBIJAPixw5-b5f</td>\n",
       "      <td>bitfinextradesbtc</td>\n",
       "      <td>1</td>\n",
       "      <td>{'price': 7550.1, 'timestamp': 1527359273151, ...</td>\n",
       "      <td>doc</td>\n",
       "    </tr>\n",
       "    <tr>\n",
       "      <th>1</th>\n",
       "      <td>5Du0nWMBIJAPixw5-b5i</td>\n",
       "      <td>bitfinextradesbtc</td>\n",
       "      <td>1</td>\n",
       "      <td>{'price': 7550.1, 'timestamp': 1527359273155, ...</td>\n",
       "      <td>doc</td>\n",
       "    </tr>\n",
       "    <tr>\n",
       "      <th>2</th>\n",
       "      <td>3zuwnWMBIJAPixw53JnO</td>\n",
       "      <td>bitfinextradesbtc</td>\n",
       "      <td>1</td>\n",
       "      <td>{'price': 7552.6, 'timestamp': 1527359003757, ...</td>\n",
       "      <td>doc</td>\n",
       "    </tr>\n",
       "    <tr>\n",
       "      <th>3</th>\n",
       "      <td>iDuxnWMBIJAPixw5xKMf</td>\n",
       "      <td>bitfinextradesbtc</td>\n",
       "      <td>1</td>\n",
       "      <td>{'price': 7550.1, 'timestamp': 1527359062460, ...</td>\n",
       "      <td>doc</td>\n",
       "    </tr>\n",
       "    <tr>\n",
       "      <th>4</th>\n",
       "      <td>Ezu0nWMBIJAPixw5E7UH</td>\n",
       "      <td>bitfinextradesbtc</td>\n",
       "      <td>1</td>\n",
       "      <td>{'price': 7550.1, 'timestamp': 1527359213318, ...</td>\n",
       "      <td>doc</td>\n",
       "    </tr>\n",
       "  </tbody>\n",
       "</table>\n",
       "</div>"
      ],
      "text/plain": [
       "                    _id             _index  _score  \\\n",
       "0  4ju0nWMBIJAPixw5-b5f  bitfinextradesbtc       1   \n",
       "1  5Du0nWMBIJAPixw5-b5i  bitfinextradesbtc       1   \n",
       "2  3zuwnWMBIJAPixw53JnO  bitfinextradesbtc       1   \n",
       "3  iDuxnWMBIJAPixw5xKMf  bitfinextradesbtc       1   \n",
       "4  Ezu0nWMBIJAPixw5E7UH  bitfinextradesbtc       1   \n",
       "\n",
       "                                             _source _type  \n",
       "0  {'price': 7550.1, 'timestamp': 1527359273151, ...   doc  \n",
       "1  {'price': 7550.1, 'timestamp': 1527359273155, ...   doc  \n",
       "2  {'price': 7552.6, 'timestamp': 1527359003757, ...   doc  \n",
       "3  {'price': 7550.1, 'timestamp': 1527359062460, ...   doc  \n",
       "4  {'price': 7550.1, 'timestamp': 1527359213318, ...   doc  "
      ]
     },
     "execution_count": 3,
     "metadata": {},
     "output_type": "execute_result"
    }
   ],
   "source": [
    "df.head()"
   ]
  },
  {
   "cell_type": "code",
   "execution_count": 4,
   "metadata": {},
   "outputs": [
    {
     "data": {
      "text/html": [
       "<div>\n",
       "<style scoped>\n",
       "    .dataframe tbody tr th:only-of-type {\n",
       "        vertical-align: middle;\n",
       "    }\n",
       "\n",
       "    .dataframe tbody tr th {\n",
       "        vertical-align: top;\n",
       "    }\n",
       "\n",
       "    .dataframe thead th {\n",
       "        text-align: right;\n",
       "    }\n",
       "</style>\n",
       "<table border=\"1\" class=\"dataframe\">\n",
       "  <thead>\n",
       "    <tr style=\"text-align: right;\">\n",
       "      <th></th>\n",
       "      <th>price</th>\n",
       "      <th>timestamp</th>\n",
       "      <th>localtime</th>\n",
       "      <th>tid</th>\n",
       "      <th>amount</th>\n",
       "    </tr>\n",
       "  </thead>\n",
       "  <tbody>\n",
       "    <tr>\n",
       "      <th>0</th>\n",
       "      <td>7550.1</td>\n",
       "      <td>1527359273151</td>\n",
       "      <td>1527359273310</td>\n",
       "      <td>250284772</td>\n",
       "      <td>0.002100</td>\n",
       "    </tr>\n",
       "    <tr>\n",
       "      <th>1</th>\n",
       "      <td>7550.1</td>\n",
       "      <td>1527359273155</td>\n",
       "      <td>1527359273314</td>\n",
       "      <td>250284774</td>\n",
       "      <td>0.873098</td>\n",
       "    </tr>\n",
       "    <tr>\n",
       "      <th>2</th>\n",
       "      <td>7552.6</td>\n",
       "      <td>1527359003757</td>\n",
       "      <td>1527359003853</td>\n",
       "      <td>250284348</td>\n",
       "      <td>-0.138557</td>\n",
       "    </tr>\n",
       "    <tr>\n",
       "      <th>3</th>\n",
       "      <td>7550.1</td>\n",
       "      <td>1527359062460</td>\n",
       "      <td>1527359063070</td>\n",
       "      <td>250284450</td>\n",
       "      <td>0.008881</td>\n",
       "    </tr>\n",
       "    <tr>\n",
       "      <th>4</th>\n",
       "      <td>7550.1</td>\n",
       "      <td>1527359213318</td>\n",
       "      <td>1527359214342</td>\n",
       "      <td>250284698</td>\n",
       "      <td>0.145264</td>\n",
       "    </tr>\n",
       "  </tbody>\n",
       "</table>\n",
       "</div>"
      ],
      "text/plain": [
       "    price      timestamp      localtime        tid    amount\n",
       "0  7550.1  1527359273151  1527359273310  250284772  0.002100\n",
       "1  7550.1  1527359273155  1527359273314  250284774  0.873098\n",
       "2  7552.6  1527359003757  1527359003853  250284348 -0.138557\n",
       "3  7550.1  1527359062460  1527359063070  250284450  0.008881\n",
       "4  7550.1  1527359213318  1527359214342  250284698  0.145264"
      ]
     },
     "execution_count": 4,
     "metadata": {},
     "output_type": "execute_result"
    }
   ],
   "source": [
    "data = pd.DataFrame()\n",
    "for k in df._source[0].keys():\n",
    "    data[k]=[d[k] for d in df._source]\n",
    "df = data\n",
    "df.head()"
   ]
  },
  {
   "cell_type": "code",
   "execution_count": 5,
   "metadata": {},
   "outputs": [],
   "source": [
    "df['p'] = (df.price*100).astype(int)/100.0"
   ]
  },
  {
   "cell_type": "code",
   "execution_count": 6,
   "metadata": {},
   "outputs": [],
   "source": [
    "# convert timestamp to actual time\n",
    "import datetime\n",
    "s=df.timestamp[0]\n",
    "datetime.datetime.fromtimestamp(s/1000.0).strftime('%Y-%m-%d %H:%M:%S.%f')\n",
    "df['t'] = df['timestamp'].apply(lambda x: datetime.datetime.fromtimestamp(x/1000.0).strftime('%M:%S.%f')) #%Y-%m-%d %H:"
   ]
  },
  {
   "cell_type": "code",
   "execution_count": 7,
   "metadata": {},
   "outputs": [
    {
     "data": {
      "text/html": [
       "<div>\n",
       "<style scoped>\n",
       "    .dataframe tbody tr th:only-of-type {\n",
       "        vertical-align: middle;\n",
       "    }\n",
       "\n",
       "    .dataframe tbody tr th {\n",
       "        vertical-align: top;\n",
       "    }\n",
       "\n",
       "    .dataframe thead th {\n",
       "        text-align: right;\n",
       "    }\n",
       "</style>\n",
       "<table border=\"1\" class=\"dataframe\">\n",
       "  <thead>\n",
       "    <tr style=\"text-align: right;\">\n",
       "      <th></th>\n",
       "      <th>price</th>\n",
       "      <th>timestamp</th>\n",
       "      <th>localtime</th>\n",
       "      <th>tid</th>\n",
       "      <th>amount</th>\n",
       "      <th>p</th>\n",
       "      <th>t</th>\n",
       "    </tr>\n",
       "  </thead>\n",
       "  <tbody>\n",
       "    <tr>\n",
       "      <th>0</th>\n",
       "      <td>7550.1</td>\n",
       "      <td>1527359273151</td>\n",
       "      <td>1527359273310</td>\n",
       "      <td>250284772</td>\n",
       "      <td>0.002100</td>\n",
       "      <td>7550.1</td>\n",
       "      <td>27:53.151000</td>\n",
       "    </tr>\n",
       "    <tr>\n",
       "      <th>1</th>\n",
       "      <td>7550.1</td>\n",
       "      <td>1527359273155</td>\n",
       "      <td>1527359273314</td>\n",
       "      <td>250284774</td>\n",
       "      <td>0.873098</td>\n",
       "      <td>7550.1</td>\n",
       "      <td>27:53.155000</td>\n",
       "    </tr>\n",
       "    <tr>\n",
       "      <th>2</th>\n",
       "      <td>7552.6</td>\n",
       "      <td>1527359003757</td>\n",
       "      <td>1527359003853</td>\n",
       "      <td>250284348</td>\n",
       "      <td>-0.138557</td>\n",
       "      <td>7552.6</td>\n",
       "      <td>23:23.757000</td>\n",
       "    </tr>\n",
       "    <tr>\n",
       "      <th>3</th>\n",
       "      <td>7550.1</td>\n",
       "      <td>1527359062460</td>\n",
       "      <td>1527359063070</td>\n",
       "      <td>250284450</td>\n",
       "      <td>0.008881</td>\n",
       "      <td>7550.1</td>\n",
       "      <td>24:22.460000</td>\n",
       "    </tr>\n",
       "    <tr>\n",
       "      <th>4</th>\n",
       "      <td>7550.1</td>\n",
       "      <td>1527359213318</td>\n",
       "      <td>1527359214342</td>\n",
       "      <td>250284698</td>\n",
       "      <td>0.145264</td>\n",
       "      <td>7550.1</td>\n",
       "      <td>26:53.318000</td>\n",
       "    </tr>\n",
       "  </tbody>\n",
       "</table>\n",
       "</div>"
      ],
      "text/plain": [
       "    price      timestamp      localtime        tid    amount       p  \\\n",
       "0  7550.1  1527359273151  1527359273310  250284772  0.002100  7550.1   \n",
       "1  7550.1  1527359273155  1527359273314  250284774  0.873098  7550.1   \n",
       "2  7552.6  1527359003757  1527359003853  250284348 -0.138557  7552.6   \n",
       "3  7550.1  1527359062460  1527359063070  250284450  0.008881  7550.1   \n",
       "4  7550.1  1527359213318  1527359214342  250284698  0.145264  7550.1   \n",
       "\n",
       "              t  \n",
       "0  27:53.151000  \n",
       "1  27:53.155000  \n",
       "2  23:23.757000  \n",
       "3  24:22.460000  \n",
       "4  26:53.318000  "
      ]
     },
     "execution_count": 7,
     "metadata": {},
     "output_type": "execute_result"
    }
   ],
   "source": [
    "df.head()"
   ]
  },
  {
   "cell_type": "code",
   "execution_count": 8,
   "metadata": {},
   "outputs": [
    {
     "data": {
      "text/plain": [
       "(688, 688)"
      ]
     },
     "execution_count": 8,
     "metadata": {},
     "output_type": "execute_result"
    }
   ],
   "source": [
    "len(df.tid), len(set(df.tid))"
   ]
  },
  {
   "cell_type": "code",
   "execution_count": 9,
   "metadata": {},
   "outputs": [
    {
     "data": {
      "text/plain": [
       "[<matplotlib.lines.Line2D at 0x20c8e666fd0>]"
      ]
     },
     "execution_count": 9,
     "metadata": {},
     "output_type": "execute_result"
    },
    {
     "data": {
      "image/png": "[encoded data removed]",
      "text/plain": [
       "<Figure size 432x288 with 1 Axes>"
      ]
     },
     "metadata": {},
     "output_type": "display_data"
    }
   ],
   "source": [
    "import numpy as np\n",
    "#plt.plot(df.t, np.cumsum(df.amount*df.price)) #doesn't really mean anything ;)"
   ]
  },
  {
   "cell_type": "code",
   "execution_count": 10,
   "metadata": {},
   "outputs": [],
   "source": [
    "sta = int(df.price.min()*100)\n",
    "sto = int(df.price.max()*100)\n",
    "stepSize=0.1\n",
    "\n",
    "priceBins = range(sta, sto, int(stepSize*100))\n",
    "\n",
    "spec = np.zeros((len(priceBins),len(df.timestamp)))\n",
    "\n",
    "for i, pbin in enumerate(priceBins):\n",
    "    pbin/=100.0\n",
    "    ix = ((df.price>=pbin) & (df.price<(pbin+stepSize)))\n",
    "    spec[i,:]=np.cumsum(df.amount*ix)"
   ]
  },
  {
   "cell_type": "code",
   "execution_count": 12,
   "metadata": {},
   "outputs": [
    {
     "data": {
      "image/png": "[encoded data removed]",
      "text/plain": [
       "<Figure size 1080x360 with 2 Axes>"
      ]
     },
     "metadata": {},
     "output_type": "display_data"
    }
   ],
   "source": [
    "%matplotlib inline\n",
    "plt.figure(figsize=(15,5))\n",
    "from matplotlib.colors import LogNorm\n",
    "plt.imshow(spec[:,:], norm=LogNorm() )# cmap='jet'\n",
    "plt.xlabel('time')\n",
    "plt.ylabel('price')\n",
    "cb = plt.colorbar()\n",
    "cb.set_label('amount')\n",
    "plt.show()"
   ]
  },
  {
   "cell_type": "code",
   "execution_count": 39,
   "metadata": {},
   "outputs": [],
   "source": [
    "counts = pd.value_counts(pd.cut(df.price, bins=price_bins))"
   ]
  },
  {
   "cell_type": "code",
   "execution_count": 96,
   "metadata": {},
   "outputs": [],
   "source": [
    "t_idx=pd.cut(df.timestamp, bins=time_bins)"
   ]
  },
  {
   "cell_type": "code",
   "execution_count": 28,
   "metadata": {},
   "outputs": [
    {
     "data": {
      "text/plain": [
       "(array([  15.,   39.,  103.,   76.,   72.,  101.,   69.,   84.,   79.,   50.]),\n",
       " array([ 7526.3 ,  7529.35,  7532.4 ,  7535.45,  7538.5 ,  7541.55,\n",
       "         7544.6 ,  7547.65,  7550.7 ,  7553.75,  7556.8 ]),\n",
       " <a list of 10 Patch objects>)"
      ]
     },
     "execution_count": 28,
     "metadata": {},
     "output_type": "execute_result"
    },
    {
     "data": {
      "image/png": "[encoded data removed]",
      "text/plain": [
       "<Figure size 432x288 with 1 Axes>"
      ]
     },
     "metadata": {},
     "output_type": "display_data"
    }
   ],
   "source": [
    "plt.hist(data.price)"
   ]
  },
  {
   "cell_type": "code",
   "execution_count": null,
   "metadata": {},
   "outputs": [],
   "source": [
    "# assuming your \"timestamp\" column is labeled ts: \n",
    "df['hod'] = [r. for r in df.timestamp]\n",
    "\n",
    "# now you can calculate stats for each bin\n",
    "ave = df[ (df.hod>=0) & (df.hod<6) ].mean()"
   ]
  },
  {
   "cell_type": "code",
   "execution_count": 113,
   "metadata": {},
   "outputs": [
    {
     "data": {
      "text/plain": [
       "Timestamp('1677-09-21 00:12:43.145225')"
      ]
     },
     "execution_count": 113,
     "metadata": {},
     "output_type": "execute_result"
    }
   ],
   "source": [
    "df.timestamp.iloc[0].min"
   ]
  },
  {
   "cell_type": "markdown",
   "metadata": {},
   "source": [
    "# get the data from ElasticSearch-Server\n",
    "--> wasn't working"
   ]
  },
  {
   "cell_type": "code",
   "execution_count": 1,
   "metadata": {},
   "outputs": [],
   "source": [
    "from elasticsearch import Elasticsearch\n",
    "\n",
    "txt = ''\n",
    "with open('elasticpw.txt') as f:\n",
    "    for line in f.readlines():\n",
    "        txt+=line\n",
    "    txt = txt.replace('\\n','')\n",
    "\n",
    "# you can use RFC-1738 to specify the url\n",
    "es = Elasticsearch([txt])"
   ]
  },
  {
   "cell_type": "code",
   "execution_count": 1,
   "metadata": {},
   "outputs": [
    {
     "ename": "NameError",
     "evalue": "name 'd' is not defined",
     "output_type": "error",
     "traceback": [
      "\u001b[1;31m---------------------------------------------------------------------------\u001b[0m",
      "\u001b[1;31mNameError\u001b[0m                                 Traceback (most recent call last)",
      "\u001b[1;32m<ipython-input-1-fbe7f9728a3e>\u001b[0m in \u001b[0;36m<module>\u001b[1;34m()\u001b[0m\n\u001b[0;32m      1\u001b[0m \u001b[1;32mimport\u001b[0m \u001b[0mjson\u001b[0m\u001b[1;33m\u001b[0m\u001b[0m\n\u001b[1;32m----> 2\u001b[1;33m \u001b[0md\u001b[0m\u001b[1;33m\u001b[0m\u001b[0m\n\u001b[0m\u001b[0;32m      3\u001b[0m \u001b[0mmsg\u001b[0m \u001b[1;33m=\u001b[0m \u001b[1;33m[\u001b[0m\u001b[1;36m248307586\u001b[0m\u001b[1;33m,\u001b[0m \u001b[1;36m1527023078373\u001b[0m\u001b[1;33m,\u001b[0m \u001b[1;33m-\u001b[0m\u001b[1;36m0.45705041\u001b[0m\u001b[1;33m,\u001b[0m \u001b[1;36m8091.1\u001b[0m\u001b[1;33m]\u001b[0m\u001b[1;33m\u001b[0m\u001b[0m\n\u001b[0;32m      4\u001b[0m doc = {\n\u001b[0;32m      5\u001b[0m     \u001b[1;34m\"tid\"\u001b[0m\u001b[1;33m:\u001b[0m \u001b[0mmsg\u001b[0m\u001b[1;33m[\u001b[0m\u001b[1;36m0\u001b[0m\u001b[1;33m]\u001b[0m\u001b[1;33m,\u001b[0m\u001b[1;33m\u001b[0m\u001b[0m\n",
      "\u001b[1;31mNameError\u001b[0m: name 'd' is not defined"
     ]
    }
   ],
   "source": [
    "import json\n",
    "\n",
    "msg = [248307586, 1527023078373, -0.45705041, 8091.1]\n",
    "doc = {\n",
    "    \"tid\": msg[0],\n",
    "    \"timestamp\": msg[1],\n",
    "    \"amount\": msg[2],\n",
    "    \"price\": msg[3]\n",
    "}\n",
    "\n",
    "res = es.get(index=\"bitfinextradesbtc\", doc_type='doc', id=250)"
   ]
  },
  {
   "cell_type": "code",
   "execution_count": null,
   "metadata": {},
   "outputs": [],
   "source": [
    "#res = es.search(index=\"index\", body={\"query\": {\"match_all\": {}}}) #TODO"
   ]
  },
  {
   "cell_type": "markdown",
   "metadata": {},
   "source": [
    "# Ignore other methods that have been tried ;)"
   ]
  },
  {
   "cell_type": "code",
   "execution_count": 10,
   "metadata": {},
   "outputs": [
    {
     "ename": "ValueError",
     "evalue": "could not convert string to float: '00:03.222000'",
     "output_type": "error",
     "traceback": [
      "\u001b[1;31m---------------------------------------------------------------------------\u001b[0m",
      "\u001b[1;31mValueError\u001b[0m                                Traceback (most recent call last)",
      "\u001b[1;32m<ipython-input-10-8fa62a79530e>\u001b[0m in \u001b[0;36m<module>\u001b[1;34m()\u001b[0m\n\u001b[0;32m      4\u001b[0m \u001b[0mtime_bins\u001b[0m \u001b[1;33m=\u001b[0m \u001b[0mpd\u001b[0m\u001b[1;33m.\u001b[0m\u001b[0mdate_range\u001b[0m\u001b[1;33m(\u001b[0m\u001b[0mstart\u001b[0m\u001b[1;33m=\u001b[0m\u001b[0mmin\u001b[0m\u001b[1;33m(\u001b[0m\u001b[0mdf\u001b[0m\u001b[1;33m.\u001b[0m\u001b[0mtimestamp\u001b[0m\u001b[1;33m)\u001b[0m\u001b[1;33m,\u001b[0m \u001b[0mend\u001b[0m\u001b[1;33m=\u001b[0m\u001b[0mmax\u001b[0m\u001b[1;33m(\u001b[0m\u001b[0mdf\u001b[0m\u001b[1;33m.\u001b[0m\u001b[0mtimestamp\u001b[0m\u001b[1;33m)\u001b[0m\u001b[1;33m,\u001b[0m \u001b[0mfreq\u001b[0m\u001b[1;33m=\u001b[0m\u001b[1;34m'1s'\u001b[0m\u001b[1;33m)\u001b[0m\u001b[1;33m\u001b[0m\u001b[0m\n\u001b[0;32m      5\u001b[0m \u001b[1;33m\u001b[0m\u001b[0m\n\u001b[1;32m----> 6\u001b[1;33m \u001b[0mH\u001b[0m\u001b[1;33m,\u001b[0m \u001b[0mxedges\u001b[0m\u001b[1;33m,\u001b[0m \u001b[0myedges\u001b[0m \u001b[1;33m=\u001b[0m \u001b[0mnp\u001b[0m\u001b[1;33m.\u001b[0m\u001b[0mhistogram2d\u001b[0m\u001b[1;33m(\u001b[0m\u001b[0mdf\u001b[0m\u001b[1;33m.\u001b[0m\u001b[0mprice\u001b[0m\u001b[1;33m,\u001b[0m \u001b[0mdf\u001b[0m\u001b[1;33m.\u001b[0m\u001b[0mt\u001b[0m\u001b[1;33m,\u001b[0m \u001b[0mbins\u001b[0m\u001b[1;33m=\u001b[0m\u001b[1;33m(\u001b[0m\u001b[0mprice_bins\u001b[0m\u001b[1;33m,\u001b[0m \u001b[0mtime_bins\u001b[0m\u001b[1;33m)\u001b[0m\u001b[1;33m)\u001b[0m\u001b[1;33m\u001b[0m\u001b[0m\n\u001b[0m\u001b[0;32m      7\u001b[0m \u001b[0mH\u001b[0m \u001b[1;33m=\u001b[0m \u001b[0mH\u001b[0m\u001b[1;33m.\u001b[0m\u001b[0mT\u001b[0m  \u001b[1;31m# Let each row list bins with common y range.\u001b[0m\u001b[1;33m\u001b[0m\u001b[0m\n\u001b[0;32m      8\u001b[0m \u001b[0mplt\u001b[0m\u001b[1;33m.\u001b[0m\u001b[0mimshow\u001b[0m\u001b[1;33m(\u001b[0m\u001b[0mH\u001b[0m\u001b[1;33m)\u001b[0m\u001b[1;33m\u001b[0m\u001b[0m\n",
      "\u001b[1;32mE:\\Portable-Apps\\PortableApps\\Anaconda\\envs\\my-rdkit-env\\lib\\site-packages\\numpy\\lib\\twodim_base.py\u001b[0m in \u001b[0;36mhistogram2d\u001b[1;34m(x, y, bins, range, normed, weights)\u001b[0m\n\u001b[0;32m    653\u001b[0m         \u001b[0mxedges\u001b[0m \u001b[1;33m=\u001b[0m \u001b[0myedges\u001b[0m \u001b[1;33m=\u001b[0m \u001b[0masarray\u001b[0m\u001b[1;33m(\u001b[0m\u001b[0mbins\u001b[0m\u001b[1;33m,\u001b[0m \u001b[0mfloat\u001b[0m\u001b[1;33m)\u001b[0m\u001b[1;33m\u001b[0m\u001b[0m\n\u001b[0;32m    654\u001b[0m         \u001b[0mbins\u001b[0m \u001b[1;33m=\u001b[0m \u001b[1;33m[\u001b[0m\u001b[0mxedges\u001b[0m\u001b[1;33m,\u001b[0m \u001b[0myedges\u001b[0m\u001b[1;33m]\u001b[0m\u001b[1;33m\u001b[0m\u001b[0m\n\u001b[1;32m--> 655\u001b[1;33m     \u001b[0mhist\u001b[0m\u001b[1;33m,\u001b[0m \u001b[0medges\u001b[0m \u001b[1;33m=\u001b[0m \u001b[0mhistogramdd\u001b[0m\u001b[1;33m(\u001b[0m\u001b[1;33m[\u001b[0m\u001b[0mx\u001b[0m\u001b[1;33m,\u001b[0m \u001b[0my\u001b[0m\u001b[1;33m]\u001b[0m\u001b[1;33m,\u001b[0m \u001b[0mbins\u001b[0m\u001b[1;33m,\u001b[0m \u001b[0mrange\u001b[0m\u001b[1;33m,\u001b[0m \u001b[0mnormed\u001b[0m\u001b[1;33m,\u001b[0m \u001b[0mweights\u001b[0m\u001b[1;33m)\u001b[0m\u001b[1;33m\u001b[0m\u001b[0m\n\u001b[0m\u001b[0;32m    656\u001b[0m     \u001b[1;32mreturn\u001b[0m \u001b[0mhist\u001b[0m\u001b[1;33m,\u001b[0m \u001b[0medges\u001b[0m\u001b[1;33m[\u001b[0m\u001b[1;36m0\u001b[0m\u001b[1;33m]\u001b[0m\u001b[1;33m,\u001b[0m \u001b[0medges\u001b[0m\u001b[1;33m[\u001b[0m\u001b[1;36m1\u001b[0m\u001b[1;33m]\u001b[0m\u001b[1;33m\u001b[0m\u001b[0m\n\u001b[0;32m    657\u001b[0m \u001b[1;33m\u001b[0m\u001b[0m\n",
      "\u001b[1;32mE:\\Portable-Apps\\PortableApps\\Anaconda\\envs\\my-rdkit-env\\lib\\site-packages\\numpy\\lib\\function_base.py\u001b[0m in \u001b[0;36mhistogramdd\u001b[1;34m(sample, bins, range, normed, weights)\u001b[0m\n\u001b[0;32m    929\u001b[0m             \u001b[0msmax\u001b[0m \u001b[1;33m=\u001b[0m \u001b[0mones\u001b[0m\u001b[1;33m(\u001b[0m\u001b[0mD\u001b[0m\u001b[1;33m)\u001b[0m\u001b[1;33m\u001b[0m\u001b[0m\n\u001b[0;32m    930\u001b[0m         \u001b[1;32melse\u001b[0m\u001b[1;33m:\u001b[0m\u001b[1;33m\u001b[0m\u001b[0m\n\u001b[1;32m--> 931\u001b[1;33m             \u001b[0msmin\u001b[0m \u001b[1;33m=\u001b[0m \u001b[0matleast_1d\u001b[0m\u001b[1;33m(\u001b[0m\u001b[0marray\u001b[0m\u001b[1;33m(\u001b[0m\u001b[0msample\u001b[0m\u001b[1;33m.\u001b[0m\u001b[0mmin\u001b[0m\u001b[1;33m(\u001b[0m\u001b[1;36m0\u001b[0m\u001b[1;33m)\u001b[0m\u001b[1;33m,\u001b[0m \u001b[0mfloat\u001b[0m\u001b[1;33m)\u001b[0m\u001b[1;33m)\u001b[0m\u001b[1;33m\u001b[0m\u001b[0m\n\u001b[0m\u001b[0;32m    932\u001b[0m             \u001b[0msmax\u001b[0m \u001b[1;33m=\u001b[0m \u001b[0matleast_1d\u001b[0m\u001b[1;33m(\u001b[0m\u001b[0marray\u001b[0m\u001b[1;33m(\u001b[0m\u001b[0msample\u001b[0m\u001b[1;33m.\u001b[0m\u001b[0mmax\u001b[0m\u001b[1;33m(\u001b[0m\u001b[1;36m0\u001b[0m\u001b[1;33m)\u001b[0m\u001b[1;33m,\u001b[0m \u001b[0mfloat\u001b[0m\u001b[1;33m)\u001b[0m\u001b[1;33m)\u001b[0m\u001b[1;33m\u001b[0m\u001b[0m\n\u001b[0;32m    933\u001b[0m     \u001b[1;32melse\u001b[0m\u001b[1;33m:\u001b[0m\u001b[1;33m\u001b[0m\u001b[0m\n",
      "\u001b[1;31mValueError\u001b[0m: could not convert string to float: '00:03.222000'"
     ]
    }
   ],
   "source": [
    "import matplotlib as mpl\n",
    "import matplotlib.pyplot as plt\n",
    "price_bins = np.linspace(df.price.min(), df.price.max(), 10)\n",
    "time_bins = pd.date_range(start=min(df.timestamp), end=max(df.timestamp), freq='1s')\n",
    "\n",
    "H, xedges, yedges = np.histogram2d(df.price, df.t, bins=(price_bins, time_bins))\n",
    "H = H.T  # Let each row list bins with common y range.\n",
    "plt.imshow(H)"
   ]
  }
 ],
 "metadata": {
  "kernelspec": {
   "display_name": "Python 3",
   "language": "python",
   "name": "python3"
  },
  "language_info": {
   "codemirror_mode": {
    "name": "ipython",
    "version": 3
   },
   "file_extension": ".py",
   "mimetype": "text/x-python",
   "name": "python",
   "nbconvert_exporter": "python",
   "pygments_lexer": "ipython3",
   "version": "3.6.4"
  }
 },
 "nbformat": 4,
 "nbformat_minor": 2
}
