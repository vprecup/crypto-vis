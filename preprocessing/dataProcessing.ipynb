{
 "cells": [
  {
   "cell_type": "code",
   "execution_count": 1,
   "metadata": {},
   "outputs": [
    {
     "data": {
      "text/html": [
       "<div>\n",
       "<style scoped>\n",
       "    .dataframe tbody tr th:only-of-type {\n",
       "        vertical-align: middle;\n",
       "    }\n",
       "\n",
       "    .dataframe tbody tr th {\n",
       "        vertical-align: top;\n",
       "    }\n",
       "\n",
       "    .dataframe thead th {\n",
       "        text-align: right;\n",
       "    }\n",
       "</style>\n",
       "<table border=\"1\" class=\"dataframe\">\n",
       "  <thead>\n",
       "    <tr style=\"text-align: right;\">\n",
       "      <th></th>\n",
       "      <th>_id</th>\n",
       "      <th>_index</th>\n",
       "      <th>_score</th>\n",
       "      <th>_source</th>\n",
       "      <th>_type</th>\n",
       "    </tr>\n",
       "  </thead>\n",
       "  <tbody>\n",
       "    <tr>\n",
       "      <th>0</th>\n",
       "      <td>JDu2nWMBIJAPixw5vdEP</td>\n",
       "      <td>bitfinexbtcbook</td>\n",
       "      <td>1</td>\n",
       "      <td>{'book': [{'count': 1, 'amount': 0.93, 'price'...</td>\n",
       "      <td>doc</td>\n",
       "    </tr>\n",
       "    <tr>\n",
       "      <th>1</th>\n",
       "      <td>hDu1nWMBIJAPixw5WMLJ</td>\n",
       "      <td>bitfinexbtcbook</td>\n",
       "      <td>1</td>\n",
       "      <td>{'book': [{'count': 7, 'amount': 7.10205738, '...</td>\n",
       "      <td>doc</td>\n",
       "    </tr>\n",
       "    <tr>\n",
       "      <th>2</th>\n",
       "      <td>8juznWMBIJAPixw5fqw4</td>\n",
       "      <td>bitfinexbtcbook</td>\n",
       "      <td>1</td>\n",
       "      <td>{'book': [{'count': 9, 'amount': 10.01907398, ...</td>\n",
       "      <td>doc</td>\n",
       "    </tr>\n",
       "    <tr>\n",
       "      <th>3</th>\n",
       "      <td>3Tu2nWMBIJAPixw5Rsph</td>\n",
       "      <td>bitfinexbtcbook</td>\n",
       "      <td>1</td>\n",
       "      <td>{'book': [{'count': 1, 'amount': 0.5, 'price':...</td>\n",
       "      <td>doc</td>\n",
       "    </tr>\n",
       "    <tr>\n",
       "      <th>4</th>\n",
       "      <td>Zjy7nWMBIJAPixw5OQX7</td>\n",
       "      <td>bitfinexbtcbook</td>\n",
       "      <td>1</td>\n",
       "      <td>{'book': [{'count': 6, 'amount': 3.050287, 'pr...</td>\n",
       "      <td>doc</td>\n",
       "    </tr>\n",
       "  </tbody>\n",
       "</table>\n",
       "</div>"
      ],
      "text/plain": [
       "                    _id           _index  _score  \\\n",
       "0  JDu2nWMBIJAPixw5vdEP  bitfinexbtcbook       1   \n",
       "1  hDu1nWMBIJAPixw5WMLJ  bitfinexbtcbook       1   \n",
       "2  8juznWMBIJAPixw5fqw4  bitfinexbtcbook       1   \n",
       "3  3Tu2nWMBIJAPixw5Rsph  bitfinexbtcbook       1   \n",
       "4  Zjy7nWMBIJAPixw5OQX7  bitfinexbtcbook       1   \n",
       "\n",
       "                                             _source _type  \n",
       "0  {'book': [{'count': 1, 'amount': 0.93, 'price'...   doc  \n",
       "1  {'book': [{'count': 7, 'amount': 7.10205738, '...   doc  \n",
       "2  {'book': [{'count': 9, 'amount': 10.01907398, ...   doc  \n",
       "3  {'book': [{'count': 1, 'amount': 0.5, 'price':...   doc  \n",
       "4  {'book': [{'count': 6, 'amount': 3.050287, 'pr...   doc  "
      ]
     },
     "execution_count": 1,
     "metadata": {},
     "output_type": "execute_result"
    }
   ],
   "source": [
    "import pandas as pd\n",
    "import matplotlib.pyplot as plt\n",
    "#df = pd.read_json('trades.json')\n",
    "df = pd.read_json('bfxbook.json') # has all the trades\n",
    "#df = pd.read_json('bfxtrades.json')\n",
    "df.head()"
   ]
  },
  {
   "cell_type": "code",
   "execution_count": 2,
   "metadata": {},
   "outputs": [
    {
     "data": {
      "text/plain": [
       "dict_keys(['book', 'localtime'])"
      ]
     },
     "execution_count": 2,
     "metadata": {},
     "output_type": "execute_result"
    }
   ],
   "source": [
    "df._source[0].keys()"
   ]
  },
  {
   "cell_type": "code",
   "execution_count": 3,
   "metadata": {},
   "outputs": [],
   "source": [
    "import datetime\n",
    "data = pd.DataFrame(df._source[0]['book'])\n",
    "time = df._source[0]['localtime']\n",
    "data['localtime'] = time\n",
    "data['t'] = datetime.datetime.fromtimestamp(time/1000.0).strftime('%M:%S.%f')"
   ]
  },
  {
   "cell_type": "code",
   "execution_count": 4,
   "metadata": {},
   "outputs": [],
   "source": [
    "all_data = pd.DataFrame()\n",
    "for i in range(len(df)):\n",
    "    data = pd.DataFrame(df._source[i]['book'])\n",
    "    time = df._source[i]['localtime']\n",
    "    data['localtime'] = time\n",
    "    data['t'] = datetime.datetime.fromtimestamp(time/1000.0).strftime('%Y-%m-%d %H:%M')#%Y-%m-%d #:%S.%f\n",
    "    all_data = pd.concat([data,all_data], axis=0)"
   ]
  },
  {
   "cell_type": "code",
   "execution_count": 5,
   "metadata": {},
   "outputs": [
    {
     "data": {
      "text/html": [
       "<div>\n",
       "<style scoped>\n",
       "    .dataframe tbody tr th:only-of-type {\n",
       "        vertical-align: middle;\n",
       "    }\n",
       "\n",
       "    .dataframe tbody tr th {\n",
       "        vertical-align: top;\n",
       "    }\n",
       "\n",
       "    .dataframe thead th {\n",
       "        text-align: right;\n",
       "    }\n",
       "</style>\n",
       "<table border=\"1\" class=\"dataframe\">\n",
       "  <thead>\n",
       "    <tr style=\"text-align: right;\">\n",
       "      <th></th>\n",
       "      <th>amount</th>\n",
       "      <th>count</th>\n",
       "      <th>price</th>\n",
       "      <th>localtime</th>\n",
       "      <th>t</th>\n",
       "    </tr>\n",
       "  </thead>\n",
       "  <tbody>\n",
       "    <tr>\n",
       "      <th>99</th>\n",
       "      <td>8.870000</td>\n",
       "      <td>1</td>\n",
       "      <td>7518.9</td>\n",
       "      <td>1527358952359</td>\n",
       "      <td>2018-05-26 20:22</td>\n",
       "    </tr>\n",
       "    <tr>\n",
       "      <th>128</th>\n",
       "      <td>-0.003976</td>\n",
       "      <td>1</td>\n",
       "      <td>7567.8</td>\n",
       "      <td>1527358952359</td>\n",
       "      <td>2018-05-26 20:22</td>\n",
       "    </tr>\n",
       "    <tr>\n",
       "      <th>129</th>\n",
       "      <td>-0.068000</td>\n",
       "      <td>1</td>\n",
       "      <td>7568.0</td>\n",
       "      <td>1527358952359</td>\n",
       "      <td>2018-05-26 20:22</td>\n",
       "    </tr>\n",
       "    <tr>\n",
       "      <th>130</th>\n",
       "      <td>-0.406136</td>\n",
       "      <td>2</td>\n",
       "      <td>7568.2</td>\n",
       "      <td>1527358952359</td>\n",
       "      <td>2018-05-26 20:22</td>\n",
       "    </tr>\n",
       "    <tr>\n",
       "      <th>131</th>\n",
       "      <td>-4.017061</td>\n",
       "      <td>1</td>\n",
       "      <td>7568.6</td>\n",
       "      <td>1527358952359</td>\n",
       "      <td>2018-05-26 20:22</td>\n",
       "    </tr>\n",
       "    <tr>\n",
       "      <th>132</th>\n",
       "      <td>-0.310000</td>\n",
       "      <td>1</td>\n",
       "      <td>7568.7</td>\n",
       "      <td>1527358952359</td>\n",
       "      <td>2018-05-26 20:22</td>\n",
       "    </tr>\n",
       "    <tr>\n",
       "      <th>133</th>\n",
       "      <td>-8.050000</td>\n",
       "      <td>1</td>\n",
       "      <td>7568.8</td>\n",
       "      <td>1527358952359</td>\n",
       "      <td>2018-05-26 20:22</td>\n",
       "    </tr>\n",
       "    <tr>\n",
       "      <th>134</th>\n",
       "      <td>-0.702910</td>\n",
       "      <td>2</td>\n",
       "      <td>7568.9</td>\n",
       "      <td>1527358952359</td>\n",
       "      <td>2018-05-26 20:22</td>\n",
       "    </tr>\n",
       "    <tr>\n",
       "      <th>135</th>\n",
       "      <td>-0.160000</td>\n",
       "      <td>1</td>\n",
       "      <td>7569.6</td>\n",
       "      <td>1527358952359</td>\n",
       "      <td>2018-05-26 20:22</td>\n",
       "    </tr>\n",
       "    <tr>\n",
       "      <th>136</th>\n",
       "      <td>-0.728980</td>\n",
       "      <td>2</td>\n",
       "      <td>7569.7</td>\n",
       "      <td>1527358952359</td>\n",
       "      <td>2018-05-26 20:22</td>\n",
       "    </tr>\n",
       "  </tbody>\n",
       "</table>\n",
       "</div>"
      ],
      "text/plain": [
       "       amount  count   price      localtime                 t\n",
       "99   8.870000      1  7518.9  1527358952359  2018-05-26 20:22\n",
       "128 -0.003976      1  7567.8  1527358952359  2018-05-26 20:22\n",
       "129 -0.068000      1  7568.0  1527358952359  2018-05-26 20:22\n",
       "130 -0.406136      2  7568.2  1527358952359  2018-05-26 20:22\n",
       "131 -4.017061      1  7568.6  1527358952359  2018-05-26 20:22\n",
       "132 -0.310000      1  7568.7  1527358952359  2018-05-26 20:22\n",
       "133 -8.050000      1  7568.8  1527358952359  2018-05-26 20:22\n",
       "134 -0.702910      2  7568.9  1527358952359  2018-05-26 20:22\n",
       "135 -0.160000      1  7569.6  1527358952359  2018-05-26 20:22\n",
       "136 -0.728980      2  7569.7  1527358952359  2018-05-26 20:22"
      ]
     },
     "execution_count": 5,
     "metadata": {},
     "output_type": "execute_result"
    }
   ],
   "source": [
    "df = all_data\n",
    "df = df.sort_values('localtime')\n",
    "df.head(10)"
   ]
  },
  {
   "cell_type": "code",
   "execution_count": 6,
   "metadata": {},
   "outputs": [],
   "source": [
    "time = list(set(df.t))"
   ]
  },
  {
   "cell_type": "code",
   "execution_count": 7,
   "metadata": {},
   "outputs": [],
   "source": [
    "timerange = pd.date_range(start=min(df.t), end=max(df.t), freq='min').strftime('%Y-%m-%d %H:%M').tolist()"
   ]
  },
  {
   "cell_type": "code",
   "execution_count": 8,
   "metadata": {
    "scrolled": true
   },
   "outputs": [
    {
     "name": "stdout",
     "output_type": "stream",
     "text": [
      "600\n",
      "1200\n",
      "1200\n",
      "1200\n",
      "1200\n",
      "1200\n",
      "1200\n",
      "1200\n",
      "1200\n",
      "1000\n",
      "1200\n",
      "1200\n",
      "1200\n",
      "1200\n",
      "1200\n",
      "1200\n",
      "1200\n",
      "1200\n",
      "1200\n",
      "1200\n",
      "1000\n",
      "1200\n",
      "1200\n",
      "1200\n",
      "1200\n",
      "1200\n",
      "1200\n",
      "1200\n",
      "1200\n",
      "1200\n",
      "1200\n",
      "1000\n",
      "1200\n",
      "1200\n",
      "1200\n",
      "1200\n",
      "1200\n",
      "1200\n",
      "1200\n",
      "1200\n",
      "1200\n",
      "1000\n",
      "1200\n",
      "1200\n",
      "1200\n",
      "1200\n",
      "1200\n",
      "1200\n",
      "1200\n",
      "1200\n",
      "1200\n",
      "1200\n",
      "1200\n",
      "1000\n",
      "1200\n",
      "1200\n",
      "1200\n",
      "1200\n",
      "1200\n",
      "1200\n",
      "600\n"
     ]
    }
   ],
   "source": [
    "for i in range(len(timerange)):\n",
    "    print( (df.t==timerange[i]).sum() )"
   ]
  },
  {
   "cell_type": "code",
   "execution_count": 9,
   "metadata": {},
   "outputs": [],
   "source": [
    "import datetime\n",
    "import time as ttime\n",
    "# damn time conversion stuff\n",
    "def datetime_to_epoch_ms(datetime_string):\n",
    "    dt = datetime.datetime.strptime(datetime_string, '%Y-%m-%d %H:%M')\n",
    "    return int(ttime.mktime(dt.timetuple()) * 1000)"
   ]
  },
  {
   "cell_type": "code",
   "execution_count": 10,
   "metadata": {},
   "outputs": [],
   "source": [
    "#mpl = 100 #multiplier --> to cut away floating point numbers\n",
    "#sta = int(df.price.min()*100)\n",
    "#sto = int(df.price.max()*100)\n",
    "#stepSize=0.5 #in Bitcoins\n",
    "#priceBins = range(sta, sto, int(stepSize*100))\n",
    "\n",
    "stepSize = 3 #define Step-Size of Bins\n",
    "priceBins = np.arange(df.price.min(),df.price.max(),stepSize)\n",
    "\n",
    "volumeArray = np.zeros((len(priceBins),len(set(timerange))))\n",
    "\n",
    "#plt.figure(figsize=(100,10))\n",
    "outData=[]\n",
    "for i, pbin in enumerate(priceBins[1:]):\n",
    "    ix = ((df.price>=priceBins[i]) & (df.price<(priceBins[i+1])))\n",
    "    for it, t in enumerate(timerange):\n",
    "        vol = (df[(df.t==t)&ix].amount).mean()\n",
    "        volumeArray[i,it]= vol\n",
    "        if vol>1:\n",
    "            outData.append([datetime_to_epoch_ms(t), pbin, vol]) "
   ]
  },
  {
   "cell_type": "code",
   "execution_count": 144,
   "metadata": {},
   "outputs": [],
   "source": [
    "out = pd.DataFrame(outData,columns=['date','price','vol'])\n",
    "#out.to_csv('volArray',index=False)\n",
    "out.to_csv('volArray.csv')"
   ]
  },
  {
   "cell_type": "code",
   "execution_count": 119,
   "metadata": {},
   "outputs": [
    {
     "data": {
      "text/plain": [
       "array([ 7496.3,  7499.3,  7502.3,  7505.3,  7508.3,  7511.3,  7514.3,\n",
       "        7517.3,  7520.3,  7523.3,  7526.3,  7529.3,  7532.3,  7535.3,\n",
       "        7538.3,  7541.3,  7544.3,  7547.3,  7550.3,  7553.3,  7556.3,\n",
       "        7559.3,  7562.3,  7565.3,  7568.3,  7571.3,  7574.3,  7577.3,\n",
       "        7580.3,  7583.3])"
      ]
     },
     "execution_count": 119,
     "metadata": {},
     "output_type": "execute_result"
    }
   ],
   "source": [
    "timerange"
   ]
  },
  {
   "cell_type": "code",
   "execution_count": 125,
   "metadata": {},
   "outputs": [
    {
     "data": {
      "text/plain": [
       "<matplotlib.colorbar.Colorbar at 0x2664c710470>"
      ]
     },
     "execution_count": 125,
     "metadata": {},
     "output_type": "execute_result"
    },
    {
     "data": {
      "image/png": "[encoded data removed]",
      "text/plain": [
       "<Figure size 3600x720 with 2 Axes>"
      ]
     },
     "metadata": {},
     "output_type": "display_data"
    }
   ],
   "source": [
    "import matplotlib\n",
    "plt.figure(figsize=(50,10))\n",
    "#plt.imshow(volumeArray*(volumeArray>1), cmap='Reds')#,norm=matplotlib.colors.LogNorm())#norm=matplotlib.colors.LogNorm())#\n",
    "#plt.imshow(volumeArray*(volumeArray<1), cmap='Blues')\n",
    "plt.imshow(volumeArray[::-1,::1], cmap='seismic',vmin=-800, vmax=800)#norm=matplotlib.colors.LogNorm()\n",
    "plt.colorbar()"
   ]
  },
  {
   "cell_type": "code",
   "execution_count": 14,
   "metadata": {},
   "outputs": [
    {
     "data": {
      "text/plain": [
       "<matplotlib.colorbar.Colorbar at 0x126ea263ef0>"
      ]
     },
     "execution_count": 14,
     "metadata": {},
     "output_type": "execute_result"
    },
    {
     "data": {
      "image/png": "[encoded data removed]",
      "text/plain": [
       "<Figure size 3600x720 with 2 Axes>"
      ]
     },
     "metadata": {},
     "output_type": "display_data"
    }
   ],
   "source": [
    "import matplotlib\n",
    "plt.figure(figsize=(50,10))\n",
    "#plt.imshow(volumeArray*(volumeArray>1), cmap='Reds')#,norm=matplotlib.colors.LogNorm())#norm=matplotlib.colors.LogNorm())#\n",
    "#plt.imshow(volumeArray*(volumeArray<1), cmap='Blues')\n",
    "plt.imshow(volumeArray[::-1,::1], cmap='seismic',vmin=-15, vmax=15)#norm=matplotlib.colors.LogNorm()\n",
    "plt.colorbar()"
   ]
  },
  {
   "cell_type": "code",
   "execution_count": 112,
   "metadata": {},
   "outputs": [
    {
     "data": {
      "text/plain": [
       "<matplotlib.colorbar.Colorbar at 0x26645bf8f28>"
      ]
     },
     "execution_count": 112,
     "metadata": {},
     "output_type": "execute_result"
    },
    {
     "data": {
      "image/png": "[encoded data removed]",
      "text/plain": [
       "<Figure size 3600x720 with 2 Axes>"
      ]
     },
     "metadata": {},
     "output_type": "display_data"
    }
   ],
   "source": [
    "import matplotlib\n",
    "plt.figure(figsize=(50,10))\n",
    "plt.imshow(volumeArray**2, cmap='seismic',vmin=-10000, vmax=10000,norm=matplotlib.colors.LogNorm())#\n",
    "plt.colorbar()"
   ]
  },
  {
   "cell_type": "code",
   "execution_count": 118,
   "metadata": {},
   "outputs": [
    {
     "data": {
      "image/png": "[encoded data removed]",
      "text/plain": [
       "<Figure size 3600x720 with 2 Axes>"
      ]
     },
     "metadata": {},
     "output_type": "display_data"
    }
   ],
   "source": [
    "import matplotlib\n",
    "plt.figure(figsize=(50,10))\n",
    "plt.imshow(volumeArray**2+0.01, cmap='viridis',norm=matplotlib.colors.LogNorm())#\n",
    "plt.colorbar();"
   ]
  },
  {
   "cell_type": "code",
   "execution_count": null,
   "metadata": {},
   "outputs": [],
   "source": [
    "yinterp = np.interp(xvals, x, y)"
   ]
  },
  {
   "cell_type": "code",
   "execution_count": 27,
   "metadata": {},
   "outputs": [
    {
     "data": {
      "text/plain": [
       "106.82179187"
      ]
     },
     "execution_count": 27,
     "metadata": {},
     "output_type": "execute_result"
    }
   ],
   "source": [
    "max(abs(df.amount))"
   ]
  },
  {
   "cell_type": "code",
   "execution_count": 23,
   "metadata": {},
   "outputs": [
    {
     "data": {
      "text/plain": [
       "<matplotlib.colorbar.Colorbar at 0x26643eb0550>"
      ]
     },
     "execution_count": 23,
     "metadata": {},
     "output_type": "execute_result"
    },
    {
     "data": {
      "image/png": "[encoded data removed]",
      "text/plain": [
       "<Figure size 7200x216 with 2 Axes>"
      ]
     },
     "metadata": {},
     "output_type": "display_data"
    }
   ],
   "source": [
    "import matplotlib\n",
    "plt.figure(figsize=(100,3))\n",
    "plt.imshow(volumeArray, cmap='seismic',vmin=-50, vmax=50)#norm=matplotlib.colors.LogNorm()\n",
    "plt.colorbar()"
   ]
  },
  {
   "cell_type": "code",
   "execution_count": 39,
   "metadata": {},
   "outputs": [],
   "source": [
    "counts = pd.value_counts(pd.cut(df.price, bins=price_bins))"
   ]
  },
  {
   "cell_type": "code",
   "execution_count": 96,
   "metadata": {},
   "outputs": [],
   "source": [
    "t_idx=pd.cut(df.timestamp, bins=time_bins)"
   ]
  },
  {
   "cell_type": "code",
   "execution_count": 28,
   "metadata": {
    "scrolled": true
   },
   "outputs": [
    {
     "data": {
      "text/plain": [
       "(array([  15.,   39.,  103.,   76.,   72.,  101.,   69.,   84.,   79.,   50.]),\n",
       " array([ 7526.3 ,  7529.35,  7532.4 ,  7535.45,  7538.5 ,  7541.55,\n",
       "         7544.6 ,  7547.65,  7550.7 ,  7553.75,  7556.8 ]),\n",
       " <a list of 10 Patch objects>)"
      ]
     },
     "execution_count": 28,
     "metadata": {},
     "output_type": "execute_result"
    },
    {
     "data": {
      "image/png": "[encoded data removed]",
      "text/plain": [
       "<Figure size 432x288 with 1 Axes>"
      ]
     },
     "metadata": {},
     "output_type": "display_data"
    }
   ],
   "source": [
    "plt.hist(data.price)"
   ]
  },
  {
   "cell_type": "code",
   "execution_count": null,
   "metadata": {},
   "outputs": [],
   "source": [
    "# assuming your \"timestamp\" column is labeled ts: \n",
    "df['hod'] = [r. for r in df.timestamp]\n",
    "\n",
    "# now you can calculate stats for each bin\n",
    "ave = df[ (df.hod>=0) & (df.hod<6) ].mean()"
   ]
  },
  {
   "cell_type": "code",
   "execution_count": 113,
   "metadata": {},
   "outputs": [
    {
     "data": {
      "text/plain": [
       "Timestamp('1677-09-21 00:12:43.145225')"
      ]
     },
     "execution_count": 113,
     "metadata": {},
     "output_type": "execute_result"
    }
   ],
   "source": [
    "df.timestamp.iloc[0].min"
   ]
  },
  {
   "cell_type": "markdown",
   "metadata": {},
   "source": [
    "# get the data from ElasticSearch-Server\n",
    "--> wasn't working"
   ]
  },
  {
   "cell_type": "code",
   "execution_count": 1,
   "metadata": {},
   "outputs": [],
   "source": [
    "from elasticsearch import Elasticsearch\n",
    "\n",
    "txt = ''\n",
    "with open('elasticpw.txt') as f:\n",
    "    for line in f.readlines():\n",
    "        txt+=line\n",
    "    txt = txt.replace('\\n','')\n",
    "\n",
    "# you can use RFC-1738 to specify the url\n",
    "es = Elasticsearch([txt])"
   ]
  },
  {
   "cell_type": "code",
   "execution_count": 1,
   "metadata": {},
   "outputs": [
    {
     "ename": "NameError",
     "evalue": "name 'd' is not defined",
     "output_type": "error",
     "traceback": [
      "\u001b[1;31m---------------------------------------------------------------------------\u001b[0m",
      "\u001b[1;31mNameError\u001b[0m                                 Traceback (most recent call last)",
      "\u001b[1;32m<ipython-input-1-fbe7f9728a3e>\u001b[0m in \u001b[0;36m<module>\u001b[1;34m()\u001b[0m\n\u001b[0;32m      1\u001b[0m \u001b[1;32mimport\u001b[0m \u001b[0mjson\u001b[0m\u001b[1;33m\u001b[0m\u001b[0m\n\u001b[1;32m----> 2\u001b[1;33m \u001b[0md\u001b[0m\u001b[1;33m\u001b[0m\u001b[0m\n\u001b[0m\u001b[0;32m      3\u001b[0m \u001b[0mmsg\u001b[0m \u001b[1;33m=\u001b[0m \u001b[1;33m[\u001b[0m\u001b[1;36m248307586\u001b[0m\u001b[1;33m,\u001b[0m \u001b[1;36m1527023078373\u001b[0m\u001b[1;33m,\u001b[0m \u001b[1;33m-\u001b[0m\u001b[1;36m0.45705041\u001b[0m\u001b[1;33m,\u001b[0m \u001b[1;36m8091.1\u001b[0m\u001b[1;33m]\u001b[0m\u001b[1;33m\u001b[0m\u001b[0m\n\u001b[0;32m      4\u001b[0m doc = {\n\u001b[0;32m      5\u001b[0m     \u001b[1;34m\"tid\"\u001b[0m\u001b[1;33m:\u001b[0m \u001b[0mmsg\u001b[0m\u001b[1;33m[\u001b[0m\u001b[1;36m0\u001b[0m\u001b[1;33m]\u001b[0m\u001b[1;33m,\u001b[0m\u001b[1;33m\u001b[0m\u001b[0m\n",
      "\u001b[1;31mNameError\u001b[0m: name 'd' is not defined"
     ]
    }
   ],
   "source": [
    "import json\n",
    "\n",
    "msg = [248307586, 1527023078373, -0.45705041, 8091.1]\n",
    "doc = {\n",
    "    \"tid\": msg[0],\n",
    "    \"timestamp\": msg[1],\n",
    "    \"amount\": msg[2],\n",
    "    \"price\": msg[3]\n",
    "}\n",
    "\n",
    "res = es.get(index=\"bitfinextradesbtc\", doc_type='doc', id=250)"
   ]
  },
  {
   "cell_type": "code",
   "execution_count": null,
   "metadata": {},
   "outputs": [],
   "source": [
    "#res = es.search(index=\"index\", body={\"query\": {\"match_all\": {}}}) #TODO"
   ]
  },
  {
   "cell_type": "markdown",
   "metadata": {},
   "source": [
    "# Ignore other methods that have been tried ;)"
   ]
  },
  {
   "cell_type": "code",
   "execution_count": 10,
   "metadata": {},
   "outputs": [
    {
     "ename": "ValueError",
     "evalue": "could not convert string to float: '00:03.222000'",
     "output_type": "error",
     "traceback": [
      "\u001b[1;31m---------------------------------------------------------------------------\u001b[0m",
      "\u001b[1;31mValueError\u001b[0m                                Traceback (most recent call last)",
      "\u001b[1;32m<ipython-input-10-8fa62a79530e>\u001b[0m in \u001b[0;36m<module>\u001b[1;34m()\u001b[0m\n\u001b[0;32m      4\u001b[0m \u001b[0mtime_bins\u001b[0m \u001b[1;33m=\u001b[0m \u001b[0mpd\u001b[0m\u001b[1;33m.\u001b[0m\u001b[0mdate_range\u001b[0m\u001b[1;33m(\u001b[0m\u001b[0mstart\u001b[0m\u001b[1;33m=\u001b[0m\u001b[0mmin\u001b[0m\u001b[1;33m(\u001b[0m\u001b[0mdf\u001b[0m\u001b[1;33m.\u001b[0m\u001b[0mtimestamp\u001b[0m\u001b[1;33m)\u001b[0m\u001b[1;33m,\u001b[0m \u001b[0mend\u001b[0m\u001b[1;33m=\u001b[0m\u001b[0mmax\u001b[0m\u001b[1;33m(\u001b[0m\u001b[0mdf\u001b[0m\u001b[1;33m.\u001b[0m\u001b[0mtimestamp\u001b[0m\u001b[1;33m)\u001b[0m\u001b[1;33m,\u001b[0m \u001b[0mfreq\u001b[0m\u001b[1;33m=\u001b[0m\u001b[1;34m'1s'\u001b[0m\u001b[1;33m)\u001b[0m\u001b[1;33m\u001b[0m\u001b[0m\n\u001b[0;32m      5\u001b[0m \u001b[1;33m\u001b[0m\u001b[0m\n\u001b[1;32m----> 6\u001b[1;33m \u001b[0mH\u001b[0m\u001b[1;33m,\u001b[0m \u001b[0mxedges\u001b[0m\u001b[1;33m,\u001b[0m \u001b[0myedges\u001b[0m \u001b[1;33m=\u001b[0m \u001b[0mnp\u001b[0m\u001b[1;33m.\u001b[0m\u001b[0mhistogram2d\u001b[0m\u001b[1;33m(\u001b[0m\u001b[0mdf\u001b[0m\u001b[1;33m.\u001b[0m\u001b[0mprice\u001b[0m\u001b[1;33m,\u001b[0m \u001b[0mdf\u001b[0m\u001b[1;33m.\u001b[0m\u001b[0mt\u001b[0m\u001b[1;33m,\u001b[0m \u001b[0mbins\u001b[0m\u001b[1;33m=\u001b[0m\u001b[1;33m(\u001b[0m\u001b[0mprice_bins\u001b[0m\u001b[1;33m,\u001b[0m \u001b[0mtime_bins\u001b[0m\u001b[1;33m)\u001b[0m\u001b[1;33m)\u001b[0m\u001b[1;33m\u001b[0m\u001b[0m\n\u001b[0m\u001b[0;32m      7\u001b[0m \u001b[0mH\u001b[0m \u001b[1;33m=\u001b[0m \u001b[0mH\u001b[0m\u001b[1;33m.\u001b[0m\u001b[0mT\u001b[0m  \u001b[1;31m# Let each row list bins with common y range.\u001b[0m\u001b[1;33m\u001b[0m\u001b[0m\n\u001b[0;32m      8\u001b[0m \u001b[0mplt\u001b[0m\u001b[1;33m.\u001b[0m\u001b[0mimshow\u001b[0m\u001b[1;33m(\u001b[0m\u001b[0mH\u001b[0m\u001b[1;33m)\u001b[0m\u001b[1;33m\u001b[0m\u001b[0m\n",
      "\u001b[1;32mE:\\Portable-Apps\\PortableApps\\Anaconda\\envs\\my-rdkit-env\\lib\\site-packages\\numpy\\lib\\twodim_base.py\u001b[0m in \u001b[0;36mhistogram2d\u001b[1;34m(x, y, bins, range, normed, weights)\u001b[0m\n\u001b[0;32m    653\u001b[0m         \u001b[0mxedges\u001b[0m \u001b[1;33m=\u001b[0m \u001b[0myedges\u001b[0m \u001b[1;33m=\u001b[0m \u001b[0masarray\u001b[0m\u001b[1;33m(\u001b[0m\u001b[0mbins\u001b[0m\u001b[1;33m,\u001b[0m \u001b[0mfloat\u001b[0m\u001b[1;33m)\u001b[0m\u001b[1;33m\u001b[0m\u001b[0m\n\u001b[0;32m    654\u001b[0m         \u001b[0mbins\u001b[0m \u001b[1;33m=\u001b[0m \u001b[1;33m[\u001b[0m\u001b[0mxedges\u001b[0m\u001b[1;33m,\u001b[0m \u001b[0myedges\u001b[0m\u001b[1;33m]\u001b[0m\u001b[1;33m\u001b[0m\u001b[0m\n\u001b[1;32m--> 655\u001b[1;33m     \u001b[0mhist\u001b[0m\u001b[1;33m,\u001b[0m \u001b[0medges\u001b[0m \u001b[1;33m=\u001b[0m \u001b[0mhistogramdd\u001b[0m\u001b[1;33m(\u001b[0m\u001b[1;33m[\u001b[0m\u001b[0mx\u001b[0m\u001b[1;33m,\u001b[0m \u001b[0my\u001b[0m\u001b[1;33m]\u001b[0m\u001b[1;33m,\u001b[0m \u001b[0mbins\u001b[0m\u001b[1;33m,\u001b[0m \u001b[0mrange\u001b[0m\u001b[1;33m,\u001b[0m \u001b[0mnormed\u001b[0m\u001b[1;33m,\u001b[0m \u001b[0mweights\u001b[0m\u001b[1;33m)\u001b[0m\u001b[1;33m\u001b[0m\u001b[0m\n\u001b[0m\u001b[0;32m    656\u001b[0m     \u001b[1;32mreturn\u001b[0m \u001b[0mhist\u001b[0m\u001b[1;33m,\u001b[0m \u001b[0medges\u001b[0m\u001b[1;33m[\u001b[0m\u001b[1;36m0\u001b[0m\u001b[1;33m]\u001b[0m\u001b[1;33m,\u001b[0m \u001b[0medges\u001b[0m\u001b[1;33m[\u001b[0m\u001b[1;36m1\u001b[0m\u001b[1;33m]\u001b[0m\u001b[1;33m\u001b[0m\u001b[0m\n\u001b[0;32m    657\u001b[0m \u001b[1;33m\u001b[0m\u001b[0m\n",
      "\u001b[1;32mE:\\Portable-Apps\\PortableApps\\Anaconda\\envs\\my-rdkit-env\\lib\\site-packages\\numpy\\lib\\function_base.py\u001b[0m in \u001b[0;36mhistogramdd\u001b[1;34m(sample, bins, range, normed, weights)\u001b[0m\n\u001b[0;32m    929\u001b[0m             \u001b[0msmax\u001b[0m \u001b[1;33m=\u001b[0m \u001b[0mones\u001b[0m\u001b[1;33m(\u001b[0m\u001b[0mD\u001b[0m\u001b[1;33m)\u001b[0m\u001b[1;33m\u001b[0m\u001b[0m\n\u001b[0;32m    930\u001b[0m         \u001b[1;32melse\u001b[0m\u001b[1;33m:\u001b[0m\u001b[1;33m\u001b[0m\u001b[0m\n\u001b[1;32m--> 931\u001b[1;33m             \u001b[0msmin\u001b[0m \u001b[1;33m=\u001b[0m \u001b[0matleast_1d\u001b[0m\u001b[1;33m(\u001b[0m\u001b[0marray\u001b[0m\u001b[1;33m(\u001b[0m\u001b[0msample\u001b[0m\u001b[1;33m.\u001b[0m\u001b[0mmin\u001b[0m\u001b[1;33m(\u001b[0m\u001b[1;36m0\u001b[0m\u001b[1;33m)\u001b[0m\u001b[1;33m,\u001b[0m \u001b[0mfloat\u001b[0m\u001b[1;33m)\u001b[0m\u001b[1;33m)\u001b[0m\u001b[1;33m\u001b[0m\u001b[0m\n\u001b[0m\u001b[0;32m    932\u001b[0m             \u001b[0msmax\u001b[0m \u001b[1;33m=\u001b[0m \u001b[0matleast_1d\u001b[0m\u001b[1;33m(\u001b[0m\u001b[0marray\u001b[0m\u001b[1;33m(\u001b[0m\u001b[0msample\u001b[0m\u001b[1;33m.\u001b[0m\u001b[0mmax\u001b[0m\u001b[1;33m(\u001b[0m\u001b[1;36m0\u001b[0m\u001b[1;33m)\u001b[0m\u001b[1;33m,\u001b[0m \u001b[0mfloat\u001b[0m\u001b[1;33m)\u001b[0m\u001b[1;33m)\u001b[0m\u001b[1;33m\u001b[0m\u001b[0m\n\u001b[0;32m    933\u001b[0m     \u001b[1;32melse\u001b[0m\u001b[1;33m:\u001b[0m\u001b[1;33m\u001b[0m\u001b[0m\n",
      "\u001b[1;31mValueError\u001b[0m: could not convert string to float: '00:03.222000'"
     ]
    }
   ],
   "source": [
    "import matplotlib as mpl\n",
    "import matplotlib.pyplot as plt\n",
    "price_bins = np.linspace(df.price.min(), df.price.max(), 10)\n",
    "time_bins = pd.date_range(start=min(df.timestamp), end=max(df.timestamp), freq='1s')\n",
    "\n",
    "H, xedges, yedges = np.histogram2d(df.price, df.t, bins=(price_bins, time_bins))\n",
    "H = H.T  # Let each row list bins with common y range.\n",
    "plt.imshow(H)"
   ]
  }
 ],
 "metadata": {
  "kernelspec": {
   "display_name": "Python 3",
   "language": "python",
   "name": "python3"
  },
  "language_info": {
   "codemirror_mode": {
    "name": "ipython",
    "version": 3
   },
   "file_extension": ".py",
   "mimetype": "text/x-python",
   "name": "python",
   "nbconvert_exporter": "python",
   "pygments_lexer": "ipython3",
   "version": "3.6.4"
  },
  "varInspector": {
   "cols": {
    "lenName": 16,
    "lenType": 16,
    "lenVar": 40
   },
   "kernels_config": {
    "python": {
     "delete_cmd_postfix": "",
     "delete_cmd_prefix": "del ",
     "library": "var_list.py",
     "varRefreshCmd": "print(var_dic_list())"
    },
    "r": {
     "delete_cmd_postfix": ") ",
     "delete_cmd_prefix": "rm(",
     "library": "var_list.r",
     "varRefreshCmd": "cat(var_dic_list()) "
    }
   },
   "types_to_exclude": [
    "module",
    "function",
    "builtin_function_or_method",
    "instance",
    "_Feature"
   ],
   "window_display": false
  }
 },
 "nbformat": 4,
 "nbformat_minor": 2
}
